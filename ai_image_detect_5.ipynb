{
 "cells": [
  {
   "cell_type": "code",
   "execution_count": 35,
   "id": "2cf4e2d1",
   "metadata": {},
   "outputs": [],
   "source": [
    "import pandas as pd\n",
    "import matplotlib.pyplot as plt\n",
    "from matplotlib.image import imread\n",
    "from keras import datasets, layers, models\n",
    "import tensorflow as tf\n",
    "import numpy as np\n",
    "import os"
   ]
  },
  {
   "cell_type": "code",
   "execution_count": 36,
   "id": "92358b8c",
   "metadata": {},
   "outputs": [
    {
     "data": {
      "text/html": [
       "<div>\n",
       "<style scoped>\n",
       "    .dataframe tbody tr th:only-of-type {\n",
       "        vertical-align: middle;\n",
       "    }\n",
       "\n",
       "    .dataframe tbody tr th {\n",
       "        vertical-align: top;\n",
       "    }\n",
       "\n",
       "    .dataframe thead th {\n",
       "        text-align: right;\n",
       "    }\n",
       "</style>\n",
       "<table border=\"1\" class=\"dataframe\">\n",
       "  <thead>\n",
       "    <tr style=\"text-align: right;\">\n",
       "      <th></th>\n",
       "      <th>id</th>\n",
       "      <th>f_0</th>\n",
       "      <th>f_1</th>\n",
       "      <th>f_2</th>\n",
       "      <th>f_3</th>\n",
       "      <th>f_4</th>\n",
       "      <th>f_5</th>\n",
       "      <th>f_6</th>\n",
       "      <th>f_7</th>\n",
       "      <th>f_8</th>\n",
       "      <th>...</th>\n",
       "      <th>f_1190</th>\n",
       "      <th>f_1191</th>\n",
       "      <th>f_1192</th>\n",
       "      <th>f_1193</th>\n",
       "      <th>f_1194</th>\n",
       "      <th>f_1195</th>\n",
       "      <th>f_1196</th>\n",
       "      <th>f_1197</th>\n",
       "      <th>f_1198</th>\n",
       "      <th>f_1199</th>\n",
       "    </tr>\n",
       "  </thead>\n",
       "  <tbody>\n",
       "    <tr>\n",
       "      <th>0</th>\n",
       "      <td>1</td>\n",
       "      <td>-3.388242</td>\n",
       "      <td>0.868285</td>\n",
       "      <td>-0.427619</td>\n",
       "      <td>-0.678964</td>\n",
       "      <td>-1.625735</td>\n",
       "      <td>0.262761</td>\n",
       "      <td>1.243040</td>\n",
       "      <td>1.537751</td>\n",
       "      <td>-0.352028</td>\n",
       "      <td>...</td>\n",
       "      <td>-0.776403</td>\n",
       "      <td>-0.662884</td>\n",
       "      <td>-0.257091</td>\n",
       "      <td>-1.168413</td>\n",
       "      <td>0.223260</td>\n",
       "      <td>-0.482520</td>\n",
       "      <td>-0.085453</td>\n",
       "      <td>-0.382265</td>\n",
       "      <td>-0.539349</td>\n",
       "      <td>-1.682404</td>\n",
       "    </tr>\n",
       "    <tr>\n",
       "      <th>1</th>\n",
       "      <td>2</td>\n",
       "      <td>-0.496920</td>\n",
       "      <td>0.952381</td>\n",
       "      <td>0.989040</td>\n",
       "      <td>0.451422</td>\n",
       "      <td>0.513516</td>\n",
       "      <td>-0.099658</td>\n",
       "      <td>-1.124326</td>\n",
       "      <td>0.729430</td>\n",
       "      <td>-0.216224</td>\n",
       "      <td>...</td>\n",
       "      <td>0.379635</td>\n",
       "      <td>-1.760084</td>\n",
       "      <td>1.125450</td>\n",
       "      <td>-0.328047</td>\n",
       "      <td>-0.880305</td>\n",
       "      <td>-1.257607</td>\n",
       "      <td>0.964312</td>\n",
       "      <td>2.021104</td>\n",
       "      <td>0.655021</td>\n",
       "      <td>-0.423029</td>\n",
       "    </tr>\n",
       "    <tr>\n",
       "      <th>2</th>\n",
       "      <td>3</td>\n",
       "      <td>1.128369</td>\n",
       "      <td>-0.537951</td>\n",
       "      <td>2.544358</td>\n",
       "      <td>1.165254</td>\n",
       "      <td>-1.904994</td>\n",
       "      <td>0.776961</td>\n",
       "      <td>-0.495768</td>\n",
       "      <td>0.060111</td>\n",
       "      <td>-1.418468</td>\n",
       "      <td>...</td>\n",
       "      <td>1.165254</td>\n",
       "      <td>-1.373589</td>\n",
       "      <td>-0.483701</td>\n",
       "      <td>-0.964782</td>\n",
       "      <td>-0.869555</td>\n",
       "      <td>0.066040</td>\n",
       "      <td>-0.444567</td>\n",
       "      <td>-0.531935</td>\n",
       "      <td>-0.878660</td>\n",
       "      <td>1.099488</td>\n",
       "    </tr>\n",
       "    <tr>\n",
       "      <th>3</th>\n",
       "      <td>4</td>\n",
       "      <td>0.051253</td>\n",
       "      <td>1.746814</td>\n",
       "      <td>0.681177</td>\n",
       "      <td>1.844524</td>\n",
       "      <td>-0.327977</td>\n",
       "      <td>1.226839</td>\n",
       "      <td>-0.085519</td>\n",
       "      <td>0.379008</td>\n",
       "      <td>-1.003667</td>\n",
       "      <td>...</td>\n",
       "      <td>-0.442288</td>\n",
       "      <td>-2.794472</td>\n",
       "      <td>-0.763468</td>\n",
       "      <td>-0.789832</td>\n",
       "      <td>-0.113209</td>\n",
       "      <td>-2.703150</td>\n",
       "      <td>-2.058728</td>\n",
       "      <td>1.070627</td>\n",
       "      <td>-0.458045</td>\n",
       "      <td>-0.435825</td>\n",
       "    </tr>\n",
       "    <tr>\n",
       "      <th>4</th>\n",
       "      <td>5</td>\n",
       "      <td>1.423209</td>\n",
       "      <td>-0.983594</td>\n",
       "      <td>-1.694170</td>\n",
       "      <td>1.197507</td>\n",
       "      <td>1.044211</td>\n",
       "      <td>0.518777</td>\n",
       "      <td>-0.298612</td>\n",
       "      <td>-0.365174</td>\n",
       "      <td>0.738447</td>\n",
       "      <td>...</td>\n",
       "      <td>-2.624450</td>\n",
       "      <td>-3.200223</td>\n",
       "      <td>0.711422</td>\n",
       "      <td>-0.190394</td>\n",
       "      <td>0.337224</td>\n",
       "      <td>-1.656639</td>\n",
       "      <td>0.707360</td>\n",
       "      <td>-0.562290</td>\n",
       "      <td>1.471181</td>\n",
       "      <td>-0.192000</td>\n",
       "    </tr>\n",
       "  </tbody>\n",
       "</table>\n",
       "<p>5 rows × 1201 columns</p>\n",
       "</div>"
      ],
      "text/plain": [
       "   id       f_0       f_1       f_2       f_3       f_4       f_5       f_6  \\\n",
       "0   1 -3.388242  0.868285 -0.427619 -0.678964 -1.625735  0.262761  1.243040   \n",
       "1   2 -0.496920  0.952381  0.989040  0.451422  0.513516 -0.099658 -1.124326   \n",
       "2   3  1.128369 -0.537951  2.544358  1.165254 -1.904994  0.776961 -0.495768   \n",
       "3   4  0.051253  1.746814  0.681177  1.844524 -0.327977  1.226839 -0.085519   \n",
       "4   5  1.423209 -0.983594 -1.694170  1.197507  1.044211  0.518777 -0.298612   \n",
       "\n",
       "        f_7       f_8  ...    f_1190    f_1191    f_1192    f_1193    f_1194  \\\n",
       "0  1.537751 -0.352028  ... -0.776403 -0.662884 -0.257091 -1.168413  0.223260   \n",
       "1  0.729430 -0.216224  ...  0.379635 -1.760084  1.125450 -0.328047 -0.880305   \n",
       "2  0.060111 -1.418468  ...  1.165254 -1.373589 -0.483701 -0.964782 -0.869555   \n",
       "3  0.379008 -1.003667  ... -0.442288 -2.794472 -0.763468 -0.789832 -0.113209   \n",
       "4 -0.365174  0.738447  ... -2.624450 -3.200223  0.711422 -0.190394  0.337224   \n",
       "\n",
       "     f_1195    f_1196    f_1197    f_1198    f_1199  \n",
       "0 -0.482520 -0.085453 -0.382265 -0.539349 -1.682404  \n",
       "1 -1.257607  0.964312  2.021104  0.655021 -0.423029  \n",
       "2  0.066040 -0.444567 -0.531935 -0.878660  1.099488  \n",
       "3 -2.703150 -2.058728  1.070627 -0.458045 -0.435825  \n",
       "4 -1.656639  0.707360 -0.562290  1.471181 -0.192000  \n",
       "\n",
       "[5 rows x 1201 columns]"
      ]
     },
     "execution_count": 36,
     "metadata": {},
     "output_type": "execute_result"
    }
   ],
   "source": [
    "train_df = pd.read_csv(\"train.csv\")\n",
    "train_df.head()\n",
    "test_df = pd.read_csv(\"test.csv\")\n",
    "test_df.head()"
   ]
  },
  {
   "attachments": {},
   "cell_type": "markdown",
   "id": "3e4a1da2",
   "metadata": {},
   "source": [
    "## Preprocessing\n"
   ]
  },
  {
   "cell_type": "code",
   "execution_count": 37,
   "id": "0803ce7b",
   "metadata": {},
   "outputs": [],
   "source": [
    "from sklearn.ensemble import AdaBoostRegressor\n",
    "from sklearn.model_selection import train_test_split"
   ]
  },
  {
   "cell_type": "code",
   "execution_count": 38,
   "id": "6c664aa2",
   "metadata": {},
   "outputs": [],
   "source": [
    "Train_image=train_df.drop('labels',axis ='columns')\n",
    "Train_label=train_df['labels']    "
   ]
  },
  {
   "cell_type": "code",
   "execution_count": 39,
   "id": "41b198f4",
   "metadata": {},
   "outputs": [
    {
     "data": {
      "text/plain": [
       "0    0\n",
       "1    1\n",
       "2    1\n",
       "3    0\n",
       "4    0\n",
       "Name: labels, dtype: int64"
      ]
     },
     "execution_count": 39,
     "metadata": {},
     "output_type": "execute_result"
    }
   ],
   "source": [
    "Train_label.head()"
   ]
  },
  {
   "cell_type": "code",
   "execution_count": 40,
   "id": "9372fb2c",
   "metadata": {},
   "outputs": [],
   "source": [
    "Train_image=Train_image.to_numpy()\n",
    "Train_label=Train_label.to_numpy()\n",
    "Train_image_processed=Train_image.reshape(-1,20,20,3)"
   ]
  },
  {
   "cell_type": "code",
   "execution_count": 41,
   "id": "c4558911",
   "metadata": {},
   "outputs": [],
   "source": [
    "Xtrain,Xtest,Ytrain,Ytest=train_test_split(Train_image_processed ,Train_label,test_size=0.25)"
   ]
  },
  {
   "cell_type": "code",
   "execution_count": 42,
   "id": "6da0cabb",
   "metadata": {},
   "outputs": [
    {
     "name": "stderr",
     "output_type": "stream",
     "text": [
      "WARNING:matplotlib.image:Clipping input data to the valid range for imshow with RGB data ([0..1] for floats or [0..255] for integers).\n"
     ]
    },
    {
     "data": {
      "text/plain": [
       "<matplotlib.image.AxesImage at 0x2c64d3290>"
      ]
     },
     "execution_count": 42,
     "metadata": {},
     "output_type": "execute_result"
    },
    {
     "data": {
      "image/png": "[encoded data removed]",
      "text/plain": [
       "<Figure size 640x480 with 1 Axes>"
      ]
     },
     "metadata": {},
     "output_type": "display_data"
    }
   ],
   "source": [
    "plt.imshow(Xtrain[10])"
   ]
  },
  {
   "attachments": {},
   "cell_type": "markdown",
   "id": "a3c13773",
   "metadata": {},
   "source": [
    "list_optimzer=['SGD','adam','RMSprop','Adadelta','Adamax']\n",
    "i=0\n",
    "j=0.01\n",
    "while i!=5:\n",
    "    acc=model_cnn_func(list_optimzer[i])\n",
    "    print(list_optimzer[i])\n",
    "    print(acc)\n",
    "    i=i+1\n"
   ]
  },
  {
   "cell_type": "code",
   "execution_count": 43,
   "id": "d56069f0",
   "metadata": {},
   "outputs": [
    {
     "name": "stderr",
     "output_type": "stream",
     "text": [
      "WARNING:absl:At this time, the v2.11+ optimizer `tf.keras.optimizers.Adam` runs slowly on M1/M2 Macs, please use the legacy Keras optimizer instead, located at `tf.keras.optimizers.legacy.Adam`.\n",
      "WARNING:absl:There is a known slowdown when using v2.11+ Keras optimizers on M1/M2 Macs. Falling back to the legacy Keras optimizer, i.e., `tf.keras.optimizers.legacy.Adam`.\n"
     ]
    },
    {
     "name": "stdout",
     "output_type": "stream",
     "text": [
      "Epoch 1/10\n",
      "124/124 - 0s - loss: 2.1547 - accuracy: 0.7572 - 428ms/epoch - 3ms/step\n",
      "Epoch 2/10\n",
      "124/124 - 0s - loss: 0.7889 - accuracy: 0.8438 - 179ms/epoch - 1ms/step\n",
      "Epoch 3/10\n",
      "124/124 - 0s - loss: 0.4090 - accuracy: 0.8766 - 186ms/epoch - 2ms/step\n",
      "Epoch 4/10\n",
      "124/124 - 0s - loss: 0.3232 - accuracy: 0.9032 - 231ms/epoch - 2ms/step\n",
      "Epoch 5/10\n",
      "124/124 - 0s - loss: 0.2855 - accuracy: 0.9177 - 207ms/epoch - 2ms/step\n",
      "Epoch 6/10\n",
      "124/124 - 0s - loss: 0.2550 - accuracy: 0.9238 - 197ms/epoch - 2ms/step\n",
      "Epoch 7/10\n",
      "124/124 - 0s - loss: 0.2291 - accuracy: 0.9383 - 233ms/epoch - 2ms/step\n",
      "Epoch 8/10\n",
      "124/124 - 0s - loss: 0.2052 - accuracy: 0.9446 - 188ms/epoch - 2ms/step\n",
      "Epoch 9/10\n",
      "124/124 - 0s - loss: 0.1932 - accuracy: 0.9487 - 177ms/epoch - 1ms/step\n",
      "Epoch 10/10\n",
      "124/124 - 0s - loss: 0.1800 - accuracy: 0.9520 - 185ms/epoch - 1ms/step\n",
      "42/42 [==============================] - 0s 739us/step - loss: 0.5049 - accuracy: 0.8248\n"
     ]
    }
   ],
   "source": [
    "model_detect = models.Sequential([\n",
    "        layers.Conv2D(filters=16,kernel_size=(11,11),activation='relu',input_shape=(20,20,3),strides=(2,2),use_bias=True),\n",
    "        layers.Dropout(0.2),\n",
    "        layers.MaxPool2D((2,2),padding='same'),\n",
    "        layers.Conv2D(filters=32,kernel_size=(3,3),activation='relu',use_bias=True),\n",
    "        layers.MaxPool2D((2,2),padding ='same'), \n",
    "    \n",
    "        layers.Flatten(),\n",
    "        layers.Dense(64,activation='leaky_relu',kernel_regularizer=tf.keras.regularizers.L1(l=0.01)),\n",
    "        layers.Dropout(0.4),\n",
    "        layers.Dense(32,activation='leaky_relu'),\n",
    "        layers.Dropout(0.2),\n",
    "        layers.Dense(16,activation='leaky_relu',kernel_regularizer=tf.keras.regularizers.L2(l=0.001)),\n",
    "        layers.Dropout(0.5),\n",
    "        layers.Dense(2,activation='softmax')\n",
    "        ])\n",
    "\n",
    "opt =tf.keras.optimizers.Adam(learning_rate=0.001)\n",
    "\n",
    "model_detect.compile(optimizer=opt,\n",
    "    loss='sparse_categorical_crossentropy',\n",
    "    metrics=['accuracy',]\n",
    "    )\n",
    "\n",
    "model_detect.fit(Xtrain,Ytrain,epochs=10,verbose=2)\n",
    "accuracy_mod=model_detect.evaluate(Xtest,Ytest)"
   ]
  },
  {
   "cell_type": "code",
   "execution_count": 44,
   "id": "6b618c49",
   "metadata": {},
   "outputs": [
    {
     "name": "stdout",
     "output_type": "stream",
     "text": [
      "42/42 [==============================] - 0s 685us/step - loss: 0.1837 - accuracy: 0.9459\n"
     ]
    },
    {
     "data": {
      "text/plain": [
       "[0.18374335765838623, 0.9459253549575806]"
      ]
     },
     "execution_count": 44,
     "metadata": {},
     "output_type": "execute_result"
    }
   ],
   "source": [
    "\n",
    "Xtrain,Xtest,Ytrain,Ytest=train_test_split(Train_image_processed,Train_label,test_size=0.25)\n",
    "model_detect.evaluate(Xtest,Ytest)"
   ]
  },
  {
   "cell_type": "code",
   "execution_count": 45,
   "id": "13601204",
   "metadata": {},
   "outputs": [
    {
     "name": "stdout",
     "output_type": "stream",
     "text": [
      "42/42 [==============================] - 0s 580us/step\n"
     ]
    },
    {
     "data": {
      "text/plain": [
       "array([[9.9999332e-01, 6.6174448e-06],\n",
       "       [9.7461301e-01, 2.5387060e-02],\n",
       "       [2.0522889e-01, 7.9477113e-01],\n",
       "       [9.6116710e-01, 3.8832892e-02],\n",
       "       [9.9999976e-01, 2.7386483e-07]], dtype=float32)"
      ]
     },
     "execution_count": 45,
     "metadata": {},
     "output_type": "execute_result"
    }
   ],
   "source": [
    "yp=model_detect.predict(Xtest)\n",
    "yp[:5]"
   ]
  },
  {
   "cell_type": "code",
   "execution_count": 46,
   "id": "f78280fd",
   "metadata": {},
   "outputs": [
    {
     "data": {
      "text/plain": [
       "(2626,)"
      ]
     },
     "execution_count": 46,
     "metadata": {},
     "output_type": "execute_result"
    }
   ],
   "source": [
    "yp=yp.flatten()\n",
    "yp.shape"
   ]
  },
  {
   "cell_type": "code",
   "execution_count": 47,
   "id": "ab05963d",
   "metadata": {},
   "outputs": [],
   "source": [
    "y_pred=[]\n",
    "i=0\n",
    "\n",
    "while i < len(yp)-1 :\n",
    "    if yp[i] >yp[i+1]:\n",
    "        y_pred.append(0)\n",
    "    else:\n",
    "        y_pred.append(1)\n",
    "    i=i+2"
   ]
  },
  {
   "cell_type": "code",
   "execution_count": 48,
   "id": "44e47c8d",
   "metadata": {},
   "outputs": [
    {
     "data": {
      "text/plain": [
       "[0, 0, 1, 0, 0, 0, 1, 1, 1, 0, 1, 0, 1, 0, 0, 0, 0, 0, 0, 1]"
      ]
     },
     "execution_count": 48,
     "metadata": {},
     "output_type": "execute_result"
    }
   ],
   "source": [
    "y_pred[:20]"
   ]
  },
  {
   "cell_type": "code",
   "execution_count": 49,
   "id": "8dd3e9ea",
   "metadata": {},
   "outputs": [
    {
     "data": {
      "text/plain": [
       "array([0, 0, 1, 0, 0, 0, 1, 1, 1, 0, 0, 0, 1, 0, 1, 0, 0, 0, 0, 1])"
      ]
     },
     "execution_count": 49,
     "metadata": {},
     "output_type": "execute_result"
    }
   ],
   "source": [
    "Ytest[:20]"
   ]
  },
  {
   "cell_type": "code",
   "execution_count": 50,
   "id": "a7692f1f",
   "metadata": {},
   "outputs": [],
   "source": [
    "from sklearn.metrics import f1_score\n",
    "f1_score=(Ytest,yp)"
   ]
  },
  {
   "cell_type": "code",
   "execution_count": 51,
   "id": "edb26818",
   "metadata": {},
   "outputs": [
    {
     "name": "stdout",
     "output_type": "stream",
     "text": [
      "              precision    recall  f1-score   support\n",
      "\n",
      "           0       0.96      0.96      0.96       985\n",
      "           1       0.89      0.89      0.89       328\n",
      "\n",
      "    accuracy                           0.95      1313\n",
      "   macro avg       0.93      0.93      0.93      1313\n",
      "weighted avg       0.95      0.95      0.95      1313\n",
      "\n"
     ]
    }
   ],
   "source": [
    "from sklearn.metrics import classification_report,confusion_matrix\n",
    "\n",
    "print(classification_report(Ytest,y_pred))"
   ]
  },
  {
   "cell_type": "code",
   "execution_count": 52,
   "id": "e9d67520",
   "metadata": {},
   "outputs": [
    {
     "data": {
      "text/plain": [
       "Text(95.72222222222221, 0.5, 'Truth')"
      ]
     },
     "execution_count": 52,
     "metadata": {},
     "output_type": "execute_result"
    },
    {
     "data": {
      "image/png": "[encoded data removed]",
      "text/plain": [
       "<Figure size 1000x1000 with 2 Axes>"
      ]
     },
     "metadata": {},
     "output_type": "display_data"
    }
   ],
   "source": [
    "import seaborn as sn\n",
    "cm =tf.math.confusion_matrix(labels=Ytest,predictions=y_pred)\n",
    "\n",
    "plt.figure(figsize=(10,10))\n",
    "sn.heatmap(cm,annot=True,fmt='b')\n",
    "plt.xlabel('Predicted')\n",
    "plt.ylabel('Truth')"
   ]
  },
  {
   "cell_type": "code",
   "execution_count": 53,
   "id": "874642e5",
   "metadata": {},
   "outputs": [
    {
     "data": {
      "text/html": [
       "<div>\n",
       "<style scoped>\n",
       "    .dataframe tbody tr th:only-of-type {\n",
       "        vertical-align: middle;\n",
       "    }\n",
       "\n",
       "    .dataframe tbody tr th {\n",
       "        vertical-align: top;\n",
       "    }\n",
       "\n",
       "    .dataframe thead th {\n",
       "        text-align: right;\n",
       "    }\n",
       "</style>\n",
       "<table border=\"1\" class=\"dataframe\">\n",
       "  <thead>\n",
       "    <tr style=\"text-align: right;\">\n",
       "      <th></th>\n",
       "      <th>f_0</th>\n",
       "      <th>f_1</th>\n",
       "      <th>f_2</th>\n",
       "      <th>f_3</th>\n",
       "      <th>f_4</th>\n",
       "      <th>f_5</th>\n",
       "      <th>f_6</th>\n",
       "      <th>f_7</th>\n",
       "      <th>f_8</th>\n",
       "      <th>f_9</th>\n",
       "      <th>...</th>\n",
       "      <th>f_1190</th>\n",
       "      <th>f_1191</th>\n",
       "      <th>f_1192</th>\n",
       "      <th>f_1193</th>\n",
       "      <th>f_1194</th>\n",
       "      <th>f_1195</th>\n",
       "      <th>f_1196</th>\n",
       "      <th>f_1197</th>\n",
       "      <th>f_1198</th>\n",
       "      <th>f_1199</th>\n",
       "    </tr>\n",
       "  </thead>\n",
       "  <tbody>\n",
       "    <tr>\n",
       "      <th>0</th>\n",
       "      <td>-3.388242</td>\n",
       "      <td>0.868285</td>\n",
       "      <td>-0.427619</td>\n",
       "      <td>-0.678964</td>\n",
       "      <td>-1.625735</td>\n",
       "      <td>0.262761</td>\n",
       "      <td>1.243040</td>\n",
       "      <td>1.537751</td>\n",
       "      <td>-0.352028</td>\n",
       "      <td>-0.114245</td>\n",
       "      <td>...</td>\n",
       "      <td>-0.776403</td>\n",
       "      <td>-0.662884</td>\n",
       "      <td>-0.257091</td>\n",
       "      <td>-1.168413</td>\n",
       "      <td>0.223260</td>\n",
       "      <td>-0.482520</td>\n",
       "      <td>-0.085453</td>\n",
       "      <td>-0.382265</td>\n",
       "      <td>-0.539349</td>\n",
       "      <td>-1.682404</td>\n",
       "    </tr>\n",
       "    <tr>\n",
       "      <th>1</th>\n",
       "      <td>-0.496920</td>\n",
       "      <td>0.952381</td>\n",
       "      <td>0.989040</td>\n",
       "      <td>0.451422</td>\n",
       "      <td>0.513516</td>\n",
       "      <td>-0.099658</td>\n",
       "      <td>-1.124326</td>\n",
       "      <td>0.729430</td>\n",
       "      <td>-0.216224</td>\n",
       "      <td>-0.000680</td>\n",
       "      <td>...</td>\n",
       "      <td>0.379635</td>\n",
       "      <td>-1.760084</td>\n",
       "      <td>1.125450</td>\n",
       "      <td>-0.328047</td>\n",
       "      <td>-0.880305</td>\n",
       "      <td>-1.257607</td>\n",
       "      <td>0.964312</td>\n",
       "      <td>2.021104</td>\n",
       "      <td>0.655021</td>\n",
       "      <td>-0.423029</td>\n",
       "    </tr>\n",
       "    <tr>\n",
       "      <th>2</th>\n",
       "      <td>1.128369</td>\n",
       "      <td>-0.537951</td>\n",
       "      <td>2.544358</td>\n",
       "      <td>1.165254</td>\n",
       "      <td>-1.904994</td>\n",
       "      <td>0.776961</td>\n",
       "      <td>-0.495768</td>\n",
       "      <td>0.060111</td>\n",
       "      <td>-1.418468</td>\n",
       "      <td>-0.086128</td>\n",
       "      <td>...</td>\n",
       "      <td>1.165254</td>\n",
       "      <td>-1.373589</td>\n",
       "      <td>-0.483701</td>\n",
       "      <td>-0.964782</td>\n",
       "      <td>-0.869555</td>\n",
       "      <td>0.066040</td>\n",
       "      <td>-0.444567</td>\n",
       "      <td>-0.531935</td>\n",
       "      <td>-0.878660</td>\n",
       "      <td>1.099488</td>\n",
       "    </tr>\n",
       "    <tr>\n",
       "      <th>3</th>\n",
       "      <td>0.051253</td>\n",
       "      <td>1.746814</td>\n",
       "      <td>0.681177</td>\n",
       "      <td>1.844524</td>\n",
       "      <td>-0.327977</td>\n",
       "      <td>1.226839</td>\n",
       "      <td>-0.085519</td>\n",
       "      <td>0.379008</td>\n",
       "      <td>-1.003667</td>\n",
       "      <td>0.570237</td>\n",
       "      <td>...</td>\n",
       "      <td>-0.442288</td>\n",
       "      <td>-2.794472</td>\n",
       "      <td>-0.763468</td>\n",
       "      <td>-0.789832</td>\n",
       "      <td>-0.113209</td>\n",
       "      <td>-2.703150</td>\n",
       "      <td>-2.058728</td>\n",
       "      <td>1.070627</td>\n",
       "      <td>-0.458045</td>\n",
       "      <td>-0.435825</td>\n",
       "    </tr>\n",
       "    <tr>\n",
       "      <th>4</th>\n",
       "      <td>1.423209</td>\n",
       "      <td>-0.983594</td>\n",
       "      <td>-1.694170</td>\n",
       "      <td>1.197507</td>\n",
       "      <td>1.044211</td>\n",
       "      <td>0.518777</td>\n",
       "      <td>-0.298612</td>\n",
       "      <td>-0.365174</td>\n",
       "      <td>0.738447</td>\n",
       "      <td>0.054435</td>\n",
       "      <td>...</td>\n",
       "      <td>-2.624450</td>\n",
       "      <td>-3.200223</td>\n",
       "      <td>0.711422</td>\n",
       "      <td>-0.190394</td>\n",
       "      <td>0.337224</td>\n",
       "      <td>-1.656639</td>\n",
       "      <td>0.707360</td>\n",
       "      <td>-0.562290</td>\n",
       "      <td>1.471181</td>\n",
       "      <td>-0.192000</td>\n",
       "    </tr>\n",
       "    <tr>\n",
       "      <th>...</th>\n",
       "      <td>...</td>\n",
       "      <td>...</td>\n",
       "      <td>...</td>\n",
       "      <td>...</td>\n",
       "      <td>...</td>\n",
       "      <td>...</td>\n",
       "      <td>...</td>\n",
       "      <td>...</td>\n",
       "      <td>...</td>\n",
       "      <td>...</td>\n",
       "      <td>...</td>\n",
       "      <td>...</td>\n",
       "      <td>...</td>\n",
       "      <td>...</td>\n",
       "      <td>...</td>\n",
       "      <td>...</td>\n",
       "      <td>...</td>\n",
       "      <td>...</td>\n",
       "      <td>...</td>\n",
       "      <td>...</td>\n",
       "      <td>...</td>\n",
       "    </tr>\n",
       "    <tr>\n",
       "      <th>2245</th>\n",
       "      <td>0.889888</td>\n",
       "      <td>-0.319077</td>\n",
       "      <td>0.849589</td>\n",
       "      <td>0.822723</td>\n",
       "      <td>0.876455</td>\n",
       "      <td>0.325704</td>\n",
       "      <td>0.876455</td>\n",
       "      <td>-0.910127</td>\n",
       "      <td>0.889888</td>\n",
       "      <td>0.204808</td>\n",
       "      <td>...</td>\n",
       "      <td>0.889888</td>\n",
       "      <td>-2.226556</td>\n",
       "      <td>-0.090717</td>\n",
       "      <td>-1.393713</td>\n",
       "      <td>-0.896694</td>\n",
       "      <td>-0.399675</td>\n",
       "      <td>-0.856395</td>\n",
       "      <td>0.876455</td>\n",
       "      <td>0.863022</td>\n",
       "      <td>-0.601169</td>\n",
       "    </tr>\n",
       "    <tr>\n",
       "      <th>2246</th>\n",
       "      <td>1.005737</td>\n",
       "      <td>-0.064755</td>\n",
       "      <td>1.163494</td>\n",
       "      <td>1.163494</td>\n",
       "      <td>1.163494</td>\n",
       "      <td>0.724028</td>\n",
       "      <td>0.712760</td>\n",
       "      <td>-0.785929</td>\n",
       "      <td>-1.225394</td>\n",
       "      <td>1.107152</td>\n",
       "      <td>...</td>\n",
       "      <td>1.163494</td>\n",
       "      <td>-1.270468</td>\n",
       "      <td>-0.932417</td>\n",
       "      <td>-1.169053</td>\n",
       "      <td>-0.008414</td>\n",
       "      <td>-0.605636</td>\n",
       "      <td>-0.323927</td>\n",
       "      <td>1.163494</td>\n",
       "      <td>-1.315541</td>\n",
       "      <td>0.047928</td>\n",
       "    </tr>\n",
       "    <tr>\n",
       "      <th>2247</th>\n",
       "      <td>1.252086</td>\n",
       "      <td>1.223561</td>\n",
       "      <td>0.153859</td>\n",
       "      <td>-0.987156</td>\n",
       "      <td>0.239435</td>\n",
       "      <td>-0.003031</td>\n",
       "      <td>-1.158309</td>\n",
       "      <td>1.237823</td>\n",
       "      <td>-1.272410</td>\n",
       "      <td>0.767154</td>\n",
       "      <td>...</td>\n",
       "      <td>0.581740</td>\n",
       "      <td>-1.386512</td>\n",
       "      <td>0.809943</td>\n",
       "      <td>-1.243885</td>\n",
       "      <td>0.153859</td>\n",
       "      <td>-0.630589</td>\n",
       "      <td>1.594391</td>\n",
       "      <td>1.252086</td>\n",
       "      <td>-1.429300</td>\n",
       "      <td>1.408976</td>\n",
       "    </tr>\n",
       "    <tr>\n",
       "      <th>2248</th>\n",
       "      <td>1.042624</td>\n",
       "      <td>-0.129166</td>\n",
       "      <td>1.066538</td>\n",
       "      <td>1.030667</td>\n",
       "      <td>1.162195</td>\n",
       "      <td>0.707827</td>\n",
       "      <td>-1.396612</td>\n",
       "      <td>0.014319</td>\n",
       "      <td>-1.025944</td>\n",
       "      <td>0.982839</td>\n",
       "      <td>...</td>\n",
       "      <td>1.078495</td>\n",
       "      <td>-1.193343</td>\n",
       "      <td>0.086061</td>\n",
       "      <td>-0.081338</td>\n",
       "      <td>-0.978116</td>\n",
       "      <td>-0.368307</td>\n",
       "      <td>-0.129166</td>\n",
       "      <td>1.090452</td>\n",
       "      <td>-1.444440</td>\n",
       "      <td>0.468686</td>\n",
       "    </tr>\n",
       "    <tr>\n",
       "      <th>2249</th>\n",
       "      <td>-1.319572</td>\n",
       "      <td>-0.485173</td>\n",
       "      <td>-0.098500</td>\n",
       "      <td>2.323293</td>\n",
       "      <td>-0.139202</td>\n",
       "      <td>-0.953250</td>\n",
       "      <td>0.084661</td>\n",
       "      <td>-0.566577</td>\n",
       "      <td>1.427840</td>\n",
       "      <td>-0.403768</td>\n",
       "      <td>...</td>\n",
       "      <td>-0.505524</td>\n",
       "      <td>-0.220607</td>\n",
       "      <td>-0.871845</td>\n",
       "      <td>0.654495</td>\n",
       "      <td>0.430631</td>\n",
       "      <td>-0.444470</td>\n",
       "      <td>-0.118851</td>\n",
       "      <td>0.471334</td>\n",
       "      <td>-0.078149</td>\n",
       "      <td>-0.566577</td>\n",
       "    </tr>\n",
       "  </tbody>\n",
       "</table>\n",
       "<p>2250 rows × 1200 columns</p>\n",
       "</div>"
      ],
      "text/plain": [
       "           f_0       f_1       f_2       f_3       f_4       f_5       f_6  \\\n",
       "0    -3.388242  0.868285 -0.427619 -0.678964 -1.625735  0.262761  1.243040   \n",
       "1    -0.496920  0.952381  0.989040  0.451422  0.513516 -0.099658 -1.124326   \n",
       "2     1.128369 -0.537951  2.544358  1.165254 -1.904994  0.776961 -0.495768   \n",
       "3     0.051253  1.746814  0.681177  1.844524 -0.327977  1.226839 -0.085519   \n",
       "4     1.423209 -0.983594 -1.694170  1.197507  1.044211  0.518777 -0.298612   \n",
       "...        ...       ...       ...       ...       ...       ...       ...   \n",
       "2245  0.889888 -0.319077  0.849589  0.822723  0.876455  0.325704  0.876455   \n",
       "2246  1.005737 -0.064755  1.163494  1.163494  1.163494  0.724028  0.712760   \n",
       "2247  1.252086  1.223561  0.153859 -0.987156  0.239435 -0.003031 -1.158309   \n",
       "2248  1.042624 -0.129166  1.066538  1.030667  1.162195  0.707827 -1.396612   \n",
       "2249 -1.319572 -0.485173 -0.098500  2.323293 -0.139202 -0.953250  0.084661   \n",
       "\n",
       "           f_7       f_8       f_9  ...    f_1190    f_1191    f_1192  \\\n",
       "0     1.537751 -0.352028 -0.114245  ... -0.776403 -0.662884 -0.257091   \n",
       "1     0.729430 -0.216224 -0.000680  ...  0.379635 -1.760084  1.125450   \n",
       "2     0.060111 -1.418468 -0.086128  ...  1.165254 -1.373589 -0.483701   \n",
       "3     0.379008 -1.003667  0.570237  ... -0.442288 -2.794472 -0.763468   \n",
       "4    -0.365174  0.738447  0.054435  ... -2.624450 -3.200223  0.711422   \n",
       "...        ...       ...       ...  ...       ...       ...       ...   \n",
       "2245 -0.910127  0.889888  0.204808  ...  0.889888 -2.226556 -0.090717   \n",
       "2246 -0.785929 -1.225394  1.107152  ...  1.163494 -1.270468 -0.932417   \n",
       "2247  1.237823 -1.272410  0.767154  ...  0.581740 -1.386512  0.809943   \n",
       "2248  0.014319 -1.025944  0.982839  ...  1.078495 -1.193343  0.086061   \n",
       "2249 -0.566577  1.427840 -0.403768  ... -0.505524 -0.220607 -0.871845   \n",
       "\n",
       "        f_1193    f_1194    f_1195    f_1196    f_1197    f_1198    f_1199  \n",
       "0    -1.168413  0.223260 -0.482520 -0.085453 -0.382265 -0.539349 -1.682404  \n",
       "1    -0.328047 -0.880305 -1.257607  0.964312  2.021104  0.655021 -0.423029  \n",
       "2    -0.964782 -0.869555  0.066040 -0.444567 -0.531935 -0.878660  1.099488  \n",
       "3    -0.789832 -0.113209 -2.703150 -2.058728  1.070627 -0.458045 -0.435825  \n",
       "4    -0.190394  0.337224 -1.656639  0.707360 -0.562290  1.471181 -0.192000  \n",
       "...        ...       ...       ...       ...       ...       ...       ...  \n",
       "2245 -1.393713 -0.896694 -0.399675 -0.856395  0.876455  0.863022 -0.601169  \n",
       "2246 -1.169053 -0.008414 -0.605636 -0.323927  1.163494 -1.315541  0.047928  \n",
       "2247 -1.243885  0.153859 -0.630589  1.594391  1.252086 -1.429300  1.408976  \n",
       "2248 -0.081338 -0.978116 -0.368307 -0.129166  1.090452 -1.444440  0.468686  \n",
       "2249  0.654495  0.430631 -0.444470 -0.118851  0.471334 -0.078149 -0.566577  \n",
       "\n",
       "[2250 rows x 1200 columns]"
      ]
     },
     "execution_count": 53,
     "metadata": {},
     "output_type": "execute_result"
    }
   ],
   "source": [
    "test_df_d=test_df.drop('id',axis='columns')\n",
    "test_df_d"
   ]
  },
  {
   "cell_type": "code",
   "execution_count": 54,
   "id": "d1a6a331",
   "metadata": {},
   "outputs": [],
   "source": [
    "test_df_d=test_df_d.to_numpy()\n",
    "test_df_reshaped=test_df_d.reshape(-1,20,20,3)"
   ]
  },
  {
   "cell_type": "code",
   "execution_count": 55,
   "id": "cb1e1f38",
   "metadata": {},
   "outputs": [
    {
     "name": "stdout",
     "output_type": "stream",
     "text": [
      " 1/71 [..............................] - ETA: 0s"
     ]
    },
    {
     "name": "stdout",
     "output_type": "stream",
     "text": [
      "71/71 [==============================] - 0s 771us/step\n"
     ]
    }
   ],
   "source": [
    "submission_pred=model_detect.predict(test_df_reshaped)"
   ]
  },
  {
   "cell_type": "code",
   "execution_count": 56,
   "id": "bf34325c",
   "metadata": {},
   "outputs": [
    {
     "data": {
      "text/plain": [
       "array([1, 0, 1, ..., 1, 0, 1])"
      ]
     },
     "execution_count": 56,
     "metadata": {},
     "output_type": "execute_result"
    }
   ],
   "source": [
    "sub=np.argmax(submission_pred,axis=1)\n",
    "sub"
   ]
  },
  {
   "cell_type": "code",
   "execution_count": 57,
   "id": "cf6459d1",
   "metadata": {},
   "outputs": [],
   "source": [
    "submission_data=pd.DataFrame({'id':test_df['id'],'Prediciton':sub})"
   ]
  },
  {
   "cell_type": "code",
   "execution_count": 58,
   "id": "d73082c8",
   "metadata": {},
   "outputs": [],
   "source": [
    "submission_data.to_csv('final_output.csv', index=False)"
   ]
  },
  {
   "cell_type": "code",
   "execution_count": 59,
   "id": "96fb3fc5",
   "metadata": {},
   "outputs": [
    {
     "data": {
      "text/html": [
       "<div>\n",
       "<style scoped>\n",
       "    .dataframe tbody tr th:only-of-type {\n",
       "        vertical-align: middle;\n",
       "    }\n",
       "\n",
       "    .dataframe tbody tr th {\n",
       "        vertical-align: top;\n",
       "    }\n",
       "\n",
       "    .dataframe thead th {\n",
       "        text-align: right;\n",
       "    }\n",
       "</style>\n",
       "<table border=\"1\" class=\"dataframe\">\n",
       "  <thead>\n",
       "    <tr style=\"text-align: right;\">\n",
       "      <th></th>\n",
       "      <th>id</th>\n",
       "      <th>Prediciton</th>\n",
       "    </tr>\n",
       "  </thead>\n",
       "  <tbody>\n",
       "    <tr>\n",
       "      <th>0</th>\n",
       "      <td>1</td>\n",
       "      <td>1</td>\n",
       "    </tr>\n",
       "    <tr>\n",
       "      <th>1</th>\n",
       "      <td>2</td>\n",
       "      <td>0</td>\n",
       "    </tr>\n",
       "    <tr>\n",
       "      <th>2</th>\n",
       "      <td>3</td>\n",
       "      <td>1</td>\n",
       "    </tr>\n",
       "    <tr>\n",
       "      <th>3</th>\n",
       "      <td>4</td>\n",
       "      <td>0</td>\n",
       "    </tr>\n",
       "    <tr>\n",
       "      <th>4</th>\n",
       "      <td>5</td>\n",
       "      <td>0</td>\n",
       "    </tr>\n",
       "    <tr>\n",
       "      <th>...</th>\n",
       "      <td>...</td>\n",
       "      <td>...</td>\n",
       "    </tr>\n",
       "    <tr>\n",
       "      <th>2245</th>\n",
       "      <td>2246</td>\n",
       "      <td>0</td>\n",
       "    </tr>\n",
       "    <tr>\n",
       "      <th>2246</th>\n",
       "      <td>2247</td>\n",
       "      <td>0</td>\n",
       "    </tr>\n",
       "    <tr>\n",
       "      <th>2247</th>\n",
       "      <td>2248</td>\n",
       "      <td>1</td>\n",
       "    </tr>\n",
       "    <tr>\n",
       "      <th>2248</th>\n",
       "      <td>2249</td>\n",
       "      <td>0</td>\n",
       "    </tr>\n",
       "    <tr>\n",
       "      <th>2249</th>\n",
       "      <td>2250</td>\n",
       "      <td>1</td>\n",
       "    </tr>\n",
       "  </tbody>\n",
       "</table>\n",
       "<p>2250 rows × 2 columns</p>\n",
       "</div>"
      ],
      "text/plain": [
       "        id  Prediciton\n",
       "0        1           1\n",
       "1        2           0\n",
       "2        3           1\n",
       "3        4           0\n",
       "4        5           0\n",
       "...    ...         ...\n",
       "2245  2246           0\n",
       "2246  2247           0\n",
       "2247  2248           1\n",
       "2248  2249           0\n",
       "2249  2250           1\n",
       "\n",
       "[2250 rows x 2 columns]"
      ]
     },
     "execution_count": 59,
     "metadata": {},
     "output_type": "execute_result"
    }
   ],
   "source": [
    "read_sub=pd.read_csv('final_output.csv')\n",
    "read_sub"
   ]
  },
  {
   "cell_type": "code",
   "execution_count": null,
   "id": "c97d76d5",
   "metadata": {},
   "outputs": [],
   "source": []
  },
  {
   "cell_type": "code",
   "execution_count": null,
   "id": "f92baebb",
   "metadata": {},
   "outputs": [],
   "source": []
  }
 ],
 "metadata": {
  "kernelspec": {
   "display_name": "Python 3 (ipykernel)",
   "language": "python",
   "name": "python3"
  },
  "language_info": {
   "codemirror_mode": {
    "name": "ipython",
    "version": 3
   },
   "file_extension": ".py",
   "mimetype": "text/x-python",
   "name": "python",
   "nbconvert_exporter": "python",
   "pygments_lexer": "ipython3",
   "version": "3.11.1"
  }
 },
 "nbformat": 4,
 "nbformat_minor": 5
}
